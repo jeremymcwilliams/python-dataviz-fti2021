{
  "nbformat": 4,
  "nbformat_minor": 0,
  "metadata": {
    "colab": {
      "name": "FTI2021.ipynb",
      "provenance": [],
      "collapsed_sections": [],
      "toc_visible": true,
      "authorship_tag": "ABX9TyOQta/cXdaRihR7ZVNumUKH",
      "include_colab_link": true
    },
    "kernelspec": {
      "name": "python3",
      "display_name": "Python 3"
    },
    "language_info": {
      "name": "python"
    }
  },
  "cells": [
    {
      "cell_type": "markdown",
      "metadata": {
        "id": "view-in-github",
        "colab_type": "text"
      },
      "source": [
        "<a href=\"https://colab.research.google.com/github/jeremymcwilliams/python-dataviz-fti2021/blob/main/FTI2021.ipynb\" target=\"_parent\"><img src=\"https://colab.research.google.com/assets/colab-badge.svg\" alt=\"Open In Colab\"/></a>"
      ]
    },
    {
      "cell_type": "markdown",
      "metadata": {
        "id": "mtDgkoqCkfIL"
      },
      "source": [
        "# Data Visualizations with python\n",
        "## FTI 2021\n",
        "\n",
        "### Goals of this workshop:  \n",
        "\n",
        "* Load and filter datasets as needed using pandas\n",
        "* Learn the basic elements of creating plots with pandas and matplotlib\n",
        "* Repeat!\n",
        "\n",
        "Note: the exercises here may be strikingly similar to the FTI \"Data Visualizations with R\" workshop.\n",
        "\n",
        "\n",
        "\n",
        "---\n",
        "\n",
        "\n",
        "\n",
        "Welcome to \"Data Visualizations with python\". We'll use this notebook to go through some examples, and then do some practice problems. \n",
        "\n",
        "This notebook is a mix of text cells and code cells. The text is simply descriptive of what we're doing, but the code cells let you write and execute python code. Below is an example of a code cell. To run the cell, click the 'play' icon on its left edge:\n"
      ]
    },
    {
      "cell_type": "code",
      "metadata": {
        "id": "tVkGojlul01J"
      },
      "source": [
        "x=5\n",
        "print(x)"
      ],
      "execution_count": null,
      "outputs": []
    },
    {
      "cell_type": "markdown",
      "metadata": {
        "id": "jYXzGuUKmFEV"
      },
      "source": [
        "Now use the blank code cell below to create a variable 'y' and set it equal to 20, and print it:"
      ]
    },
    {
      "cell_type": "code",
      "metadata": {
        "id": "YPIYxgt_mK-N"
      },
      "source": [
        "#enter your code below\n",
        "\n",
        "\n"
      ],
      "execution_count": null,
      "outputs": []
    },
    {
      "cell_type": "markdown",
      "metadata": {
        "id": "y2XKJdxdmO2F"
      },
      "source": [
        "As you examine the code blocks below, you'll want to make sure you run them. The code in this notebook is \"procedural\", meaning that it reads top to bottom. So a code block later in the notebook may not run properly if a preceding block isn't executed.\n",
        "\n",
        "Ok! Now on to data visualizations. Before getting started, it's worth noting that python (and other languages) offers more than one way to work with data and create visualizations. If you ultimately want to try some different approaches, Google searches will undoubtedly lead you there. For the purposes of this session, we're going to use the \"matplotlib\" package.\n",
        "\n",
        "We're going to take this general approach:\n",
        "\n",
        "* Load a dataset\n",
        "* Filter or format the data we want to use\n",
        "* Create the visualization\n",
        "* Edit as necessary\n",
        "* Save the visualization as an image file\n",
        "Before doing anything too fancy, we're going to first load some python libraries. Python out of the box can do a lot, but it can't do everything. Fortunately we can import libraries of functions created by the open source community to make our coding easier. The syntax to import a library is:\n",
        "\n",
        "```\n",
        "import libraryName as abbreviation\n",
        "```\n",
        "...where \"abbreviation\" is typically a very short word or acronymn that can be used later in our code to call functions in that library...basically to save a few keystrokes."
      ]
    },
    {
      "cell_type": "code",
      "metadata": {
        "id": "hAStXSQjmlb0"
      },
      "source": [
        "#pandas is a data analysis library\n",
        "import pandas as pd\n",
        "\n",
        "#pandas uses matplotlib \"under the hood\" to generate visualizations\n",
        "import matplotlib.pyplot as plt\n",
        "\n",
        "# Enable inline plotting\n",
        "%matplotlib inline"
      ],
      "execution_count": 1,
      "outputs": []
    },
    {
      "cell_type": "markdown",
      "metadata": {
        "id": "859NkqO9m-oX"
      },
      "source": [
        "### Average Height by Country\n",
        "\n",
        "In our github repository, we've made a couple datasets available that we'll load. The first is \"average-height-of-men.csv\". This is a dataset from NCD-Risc (http://www.ncdrisc.org/data-downloads.html) that has the average annual height of men by country from 1896-1996. Let's load this data below by createing a variable called \"men\". We can then take a look at the data by printing \"men\"."
      ]
    },
    {
      "cell_type": "code",
      "metadata": {
        "id": "Jq4c4sxxnfve"
      },
      "source": [
        "men_url=\"https://raw.githubusercontent.com/jeremymcwilliams/python-dataviz-fti2021/main/average-height-of-men.csv\"\n",
        "\n",
        "# loads the data into the 'menDataFrame' variable\n",
        "menDataFrame = pd.read_csv(men_url)\n",
        "\n",
        "menDataFrame.head()\n",
        "\n"
      ],
      "execution_count": null,
      "outputs": []
    },
    {
      "cell_type": "markdown",
      "metadata": {
        "id": "jFjngPWWo92s"
      },
      "source": [
        "This looks pretty straightforward, though that last column heading is a bit of a handful. Let's use the pandas \"columns\" function to rename a couple:"
      ]
    },
    {
      "cell_type": "code",
      "metadata": {
        "id": "XSlSJsyGpMLL"
      },
      "source": [
        "\n",
        "menDataFrame.columns=['Country', 'Code', 'Year', 'Height']\n",
        "\n",
        "menDataFrame.head()"
      ],
      "execution_count": null,
      "outputs": []
    },
    {
      "cell_type": "markdown",
      "metadata": {
        "id": "Z_hP12MRrCGY"
      },
      "source": [
        "Let's say we're interested in seeing any changes over time in the average height of men from the United States. We can use a pandas filtering expression:"
      ]
    },
    {
      "cell_type": "code",
      "metadata": {
        "id": "xJ6hTRBTrp3R"
      },
      "source": [
        "\n",
        "usMen=menDataFrame[menDataFrame.Code.eq('USA')]\n",
        "\n",
        "print(usMen)\n",
        "\n"
      ],
      "execution_count": null,
      "outputs": []
    },
    {
      "cell_type": "markdown",
      "metadata": {
        "id": "AKNYoSpascuk"
      },
      "source": [
        "Now that we have a subset of data, let's create a line plot:"
      ]
    },
    {
      "cell_type": "code",
      "metadata": {
        "id": "RQhUgQRaseoM"
      },
      "source": [
        "\n",
        "# In the plot function, we set x and y to column names, and can add a title\n",
        "# The plot() function returns an \"axis\" object (set equal to \"ax\") \n",
        "ax=usMen.plot(x=\"Year\", y=\"Height\", title=\"Average height of US men over time\")\n",
        "\n",
        "# We can now use the \"ax\" object to set x- and y-axis labels\n",
        "ax.set_ylabel(\"Height, cm\")\n",
        "ax.set_xlabel(\"My custom label (years)\")\n",
        "\n",
        "# We rely on the matplotlib library (plt) to display and save the plot\n",
        "# \"gfc()\" means \"get current figure\"\n",
        "fig1 = plt.gcf()\n",
        "#save as an image file, if desired\n",
        "fig1.savefig('usMen.png', dpi=100)\n",
        "\n",
        "#displays the plot below\n",
        "plt.show()\n",
        "\n",
        "\n"
      ],
      "execution_count": null,
      "outputs": []
    },
    {
      "cell_type": "markdown",
      "metadata": {
        "id": "Z8FNSFjltl9V"
      },
      "source": [
        "Now let's compare multiple countries at once. We can use the \"or\" operater | in the filter function to return data for multiple countries:"
      ]
    },
    {
      "cell_type": "code",
      "metadata": {
        "id": "SPzobdN7t8vS"
      },
      "source": [
        "# create a list of countries\n",
        "countries = ['Kenya','Spain', 'Chile']\n",
        "\n",
        "# create a new data frame in which the Country field has \n",
        "menKenSpaChi = menDataFrame[menDataFrame.Country.isin(countries)]\n",
        "\n",
        "print(menKenSpaChi)\n",
        "\n"
      ],
      "execution_count": null,
      "outputs": []
    },
    {
      "cell_type": "markdown",
      "metadata": {
        "id": "-dfoH_AivSZ8"
      },
      "source": [
        "To plot them, we need to adjust/wrangle the data so each row is an entry, with the Year serving as the index. We can use the pandas \"pivot\" function to create a pivot table."
      ]
    },
    {
      "cell_type": "code",
      "metadata": {
        "id": "87HcppAdvVJq"
      },
      "source": [
        "\n",
        "\n",
        "PVmenKenSpaChi = menKenSpaChi.pivot(index='Year', columns='Country', values='Height')\n",
        "print(PVmenKenSpaChi)\n",
        "\n"
      ],
      "execution_count": null,
      "outputs": []
    },
    {
      "cell_type": "markdown",
      "metadata": {
        "id": "r8V5JlYAXoV4"
      },
      "source": [
        "Notice the difference between how the two data frames are structured. Now we can plot the data:"
      ]
    },
    {
      "cell_type": "code",
      "metadata": {
        "id": "GXki5mpqXzkn"
      },
      "source": [
        "ax=PVmenKenSpaChi.plot(title=\"Average Men's height over time: Chile, Kenya, Spain\")\n",
        "\n",
        "ax.set_ylabel(\"Height(cm)\")\n",
        "\n",
        "#create file:\n",
        "fig2 = plt.gcf()\n",
        "fig2.savefig('chikenspaMen.png', dpi=100)\n",
        "\n",
        "plt.show()\n"
      ],
      "execution_count": null,
      "outputs": []
    },
    {
      "cell_type": "markdown",
      "metadata": {
        "id": "_Ds6ZaDXb6fW"
      },
      "source": [
        "Now it's your turn! See if you can replicate the steps above for the data set of women's average height by country (https://raw.githubusercontent.com/jeremymcwilliams/python-dataviz-fti2021/main/average-height-of-women.csv), and create a plot showing average height over time for five countries. Break it into these steps:\n",
        "\n",
        "\n",
        "*   Load and print the data set\n",
        "*   Create a list/array of countries you want to examine\n",
        "* Create a new data frame limited to those countries, and print it\n",
        "* Pivot your data so it's ready to be plotted\n",
        "* Plot your data\n",
        "* Save a file of your plot\n",
        "\n",
        "\n",
        "\n"
      ]
    },
    {
      "cell_type": "code",
      "metadata": {
        "id": "-jf-WM2edgL6"
      },
      "source": [
        "#Your turn\n",
        "\n",
        "\n",
        "\n",
        "\n",
        "\n",
        "\n",
        "\n"
      ],
      "execution_count": null,
      "outputs": []
    },
    {
      "cell_type": "markdown",
      "metadata": {
        "id": "C1eu5fIye8Pr"
      },
      "source": [
        "### Chicken Weights\n",
        "\n",
        "Now we're going to shift gears and look at a data set from a 1977 study examining the weights of chickens in different groups based upon their diets:"
      ]
    },
    {
      "cell_type": "code",
      "metadata": {
        "id": "SyEX8v0ffg3i"
      },
      "source": [
        "chicken_url=\"https://forge.scilab.org/index.php/p/rdataset/source/file/master/csv/datasets/chickwts.csv\"\n",
        "\n",
        "chickens=pd.read_csv(chicken_url)\n",
        "\n",
        "\n",
        "print(chickens)"
      ],
      "execution_count": null,
      "outputs": []
    },
    {
      "cell_type": "markdown",
      "metadata": {
        "id": "ScWXWT7Psv7x"
      },
      "source": [
        "This is a pretty simple data set, with each observation (feed type and weight) represented by a row. Now let's say we want to create a bar chart displaying the mean values of each feed type. Once again, we'll need to wrangle our data so it shows each feed type along with its mean. For this, we can use the pandas \"groupby\" function:"
      ]
    },
    {
      "cell_type": "code",
      "metadata": {
        "id": "-tvE02_KgzmR"
      },
      "source": [
        "\n",
        "\n",
        "# Here we're grouping the feeds together, and indicating we want them listed with the mean of the weight column\n",
        "feedMeans = chickens.groupby('feed')['weight'].mean()\n",
        "print(feedMeans)\n",
        "\n",
        "\n",
        "\n",
        "\n",
        "\n",
        "\n",
        "\n",
        "#df.groupby('col1').agg('weight':['std','mean'])"
      ],
      "execution_count": null,
      "outputs": []
    },
    {
      "cell_type": "markdown",
      "metadata": {
        "id": "s-X1HeTVuN8P"
      },
      "source": [
        "Now with our data in the right format, we can use plot.bar to generate a bar plot, along with x- and y-axis labels, and a title: "
      ]
    },
    {
      "cell_type": "code",
      "metadata": {
        "id": "x0JG_cxuuOjG"
      },
      "source": [
        "dfg.plot.bar( ylabel='Average Weight(g)', title=\"Average weight of chickens by feed type\", xlabel=\"Feed Type\")\n",
        "fig3 = plt.gcf()\n",
        "fig3.savefig('feedweights.png', dpi=100)\n",
        "\n",
        "\n",
        "plt.show()\n"
      ],
      "execution_count": null,
      "outputs": []
    },
    {
      "cell_type": "markdown",
      "metadata": {
        "id": "lHTtHQVfvbro"
      },
      "source": [
        "Now it's your turn. Use the iris data set (https://gist.githubusercontent.com/netj/8836201/raw/6f9306ad21398ea43cba4f7d537619d0e07d5ae3/iris.csv) to create a bar chart displaying the mean Petal length by Species.\n",
        "\n",
        "Steps:\n",
        "\n",
        "\n",
        "*   Load and print the data set\n",
        "*   Use groupby to restructure your data\n",
        "* Display and save the bar chart using the restructured data.\n",
        "\n"
      ]
    },
    {
      "cell_type": "code",
      "metadata": {
        "id": "TaiopEflwF0A"
      },
      "source": [
        "#Your Turn:\n",
        "\n",
        "\n",
        "\n",
        "\n",
        "\n",
        "\n",
        "\n",
        "\n",
        "\n",
        "\n"
      ],
      "execution_count": null,
      "outputs": []
    },
    {
      "cell_type": "markdown",
      "metadata": {
        "id": "rvHLmVzzw4Q2"
      },
      "source": [
        "Further reading: check out the wide variety of plots one can create with pandas: https://pandas.pydata.org/pandas-docs/stable/user_guide/visualization.html"
      ]
    }
  ]
}