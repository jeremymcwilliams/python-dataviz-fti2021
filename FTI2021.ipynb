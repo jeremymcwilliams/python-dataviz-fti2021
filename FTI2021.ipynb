{
  "nbformat": 4,
  "nbformat_minor": 0,
  "metadata": {
    "colab": {
      "name": "FTI2021.ipynb",
      "provenance": [],
      "collapsed_sections": [],
      "authorship_tag": "ABX9TyMvsh2eCF4lzwd8YP7LnqNh",
      "include_colab_link": true
    },
    "kernelspec": {
      "name": "python3",
      "display_name": "Python 3"
    },
    "language_info": {
      "name": "python"
    }
  },
  "cells": [
    {
      "cell_type": "markdown",
      "metadata": {
        "id": "view-in-github",
        "colab_type": "text"
      },
      "source": [
        "<a href=\"https://colab.research.google.com/github/jeremymcwilliams/python-dataviz-fti2021/blob/main/FTI2021.ipynb\" target=\"_parent\"><img src=\"https://colab.research.google.com/assets/colab-badge.svg\" alt=\"Open In Colab\"/></a>"
      ]
    },
    {
      "cell_type": "markdown",
      "metadata": {
        "id": "mtDgkoqCkfIL"
      },
      "source": [
        "# Data Visualizations with python\n",
        "## FTI 2021\n",
        "\n",
        "### Goals of this workshop:  \n",
        "\n",
        "* Load and filter datasets as needed using pandas\n",
        "* Learn the basic elements of creating plots with pandas and matplotlib\n",
        "* Repeat!\n",
        "\n",
        "Note: the exercises here may be strikingly similar to the FTI \"Data Visualizations with R\" workshop.\n",
        "\n",
        "\n",
        "\n",
        "---\n",
        "\n",
        "\n",
        "\n",
        "Welcome to \"Data Visualizations with python\". We'll use this notebook to go through some examples, and then do some practice problems. \n",
        "\n",
        "This notebook is a mix of text cells and code cells. The text is simply descriptive of what we're doing, but the code cells let you write and execute python code. Below is an example of a code cell. To run the cell, click the 'play' icon on its left edge:\n"
      ]
    },
    {
      "cell_type": "code",
      "metadata": {
        "id": "tVkGojlul01J"
      },
      "source": [
        "x=5\n",
        "print(x)"
      ],
      "execution_count": null,
      "outputs": []
    },
    {
      "cell_type": "markdown",
      "metadata": {
        "id": "jYXzGuUKmFEV"
      },
      "source": [
        "Now use the blank code cell below to create a variable 'y' and set it equal to 20, and print it:"
      ]
    },
    {
      "cell_type": "code",
      "metadata": {
        "id": "YPIYxgt_mK-N"
      },
      "source": [
        "#enter your code below\n",
        "\n",
        "\n"
      ],
      "execution_count": null,
      "outputs": []
    },
    {
      "cell_type": "markdown",
      "metadata": {
        "id": "y2XKJdxdmO2F"
      },
      "source": [
        "As you examine the code blocks below, you'll want to make sure you run them. The code in this notebook is \"procedural\", meaning that it reads top to bottom. So a code block later in the notebook may not run properly if a preceding block isn't executed.\n",
        "\n",
        "Ok! Now on to data visualizations. Before getting started, it's worth noting that python (and other languages) offers more than one way to work with data and create visualizations. If you ultimately want to try some different approaches, Google searches will undoubtedly lead you there. For the purposes of this session, we're going to use the \"matplotlib\" package.\n",
        "\n",
        "We're going to take this general approach:\n",
        "\n",
        "* Load a dataset\n",
        "* Filter or format the data we want to use\n",
        "* Create the visualization\n",
        "* Edit as necessary\n",
        "* Save the visualization as an image file\n",
        "Before doing anything too fancy, we're going to first load some python libraries. Python out of the box can do a lot, but it can't do everything. Fortunately we can import libraries of functions created by the open source community to make our coding easier. The syntax to import a library is:\n",
        "\n",
        "```\n",
        "import libraryName as abbreviation\n",
        "```\n",
        "...where \"abbreviation\" is typically a very short word or acronymn that can be used later in our code to call functions in that library...basically to save a few keystrokes."
      ]
    },
    {
      "cell_type": "code",
      "metadata": {
        "id": "hAStXSQjmlb0"
      },
      "source": [
        "#pandas is a data analysis library\n",
        "import pandas as pd\n",
        "\n",
        "#pandas uses matplotlib \"under the hood\" to generate visualizations\n",
        "import matplotlib.pyplot as plt\n",
        "\n",
        "# Enable inline plotting\n",
        "%matplotlib inline"
      ],
      "execution_count": 1,
      "outputs": []
    },
    {
      "cell_type": "markdown",
      "metadata": {
        "id": "859NkqO9m-oX"
      },
      "source": [
        "### Average Height by Country\n",
        "\n",
        "In our github repository, we've made a couple datasets available that we'll load. The first is \"average-height-of-men.csv\". This is a dataset from NCD-Risc (http://www.ncdrisc.org/data-downloads.html) that has the average annual height of men by country from 1896-1996. Let's load this data below by createing a variable called \"men\". We can then take a look at the data by printing \"men\"."
      ]
    },
    {
      "cell_type": "code",
      "metadata": {
        "id": "Jq4c4sxxnfve"
      },
      "source": [
        "men_url=\"https://raw.githubusercontent.com/jeremymcwilliams/python-dataviz-fti2021/main/average-height-of-men.csv\"\n",
        "\n",
        "# loads the data into the 'menDataFrame' variable\n",
        "menDataFrame = pd.read_csv(men_url)\n",
        "\n",
        "menDataFrame.head()\n",
        "\n"
      ],
      "execution_count": null,
      "outputs": []
    },
    {
      "cell_type": "markdown",
      "metadata": {
        "id": "jFjngPWWo92s"
      },
      "source": [
        "This looks pretty straightforward, though that last column heading is a bit of a handful. Let's use the pandas \"columns\" function to rename a couple:"
      ]
    },
    {
      "cell_type": "code",
      "metadata": {
        "id": "XSlSJsyGpMLL"
      },
      "source": [
        "\n",
        "menDataFrame.columns=['Country', 'Code', 'Year', 'Height']\n",
        "\n",
        "menDataFrame.head()"
      ],
      "execution_count": null,
      "outputs": []
    },
    {
      "cell_type": "markdown",
      "metadata": {
        "id": "Z_hP12MRrCGY"
      },
      "source": [
        "Let's say we're interested in seeing any changes over time in the average height of men from the United States. We can use a pandas filtering expression:"
      ]
    },
    {
      "cell_type": "code",
      "metadata": {
        "id": "xJ6hTRBTrp3R"
      },
      "source": [
        "\n",
        "usMen=menDataFrame[menDataFrame.Code.eq('USA')]\n",
        "\n",
        "print(usMen)\n",
        "\n"
      ],
      "execution_count": null,
      "outputs": []
    },
    {
      "cell_type": "markdown",
      "metadata": {
        "id": "AKNYoSpascuk"
      },
      "source": [
        "Now that we have a subset of data, let's create a line plot:"
      ]
    },
    {
      "cell_type": "code",
      "metadata": {
        "id": "RQhUgQRaseoM"
      },
      "source": [
        "usMen.plot(x=\"Year\", y=\"Height\")\n",
        "\n",
        "# We rely on the matplotlib library (plt) to display the plot\n",
        "plt.show()"
      ],
      "execution_count": null,
      "outputs": []
    },
    {
      "cell_type": "markdown",
      "metadata": {
        "id": "Z8FNSFjltl9V"
      },
      "source": [
        "Now let's compare multiple countries at once. We can use the \"or\" operater | in the filter function to return data for multiple countries:"
      ]
    },
    {
      "cell_type": "code",
      "metadata": {
        "id": "SPzobdN7t8vS"
      },
      "source": [
        "# create a list of countries\n",
        "countries = ['Kenya','Spain', 'Chile']\n",
        "\n",
        "# create a \n",
        "menCaMxUs = menDataFrame[menDataFrame.Country.isin(countries)]\n",
        "\n",
        "print(menCaMxUs)\n",
        "\n"
      ],
      "execution_count": null,
      "outputs": []
    },
    {
      "cell_type": "markdown",
      "metadata": {
        "id": "-dfoH_AivSZ8"
      },
      "source": [
        "Now let's plot them:"
      ]
    },
    {
      "cell_type": "code",
      "metadata": {
        "id": "87HcppAdvVJq"
      },
      "source": [
        "#menCaMxUs.plot(x=\"Year\", y=\"Height\")\n",
        "\n",
        "df = menCaMxUs.pivot(index='Year', columns='Country', values='Height')\n",
        "print(df)\n",
        "df.plot(title=\"My title\")\n",
        "\n",
        "#menCaMxUs.set_index('Year', inplace=True)\n",
        "#menCaMxUs.groupby('Code')['Height'].plot(legend=True)\n",
        "\n",
        "plt.show()\n"
      ],
      "execution_count": null,
      "outputs": []
    }
  ]
}