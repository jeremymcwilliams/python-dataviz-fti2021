{
  "nbformat": 4,
  "nbformat_minor": 0,
  "metadata": {
    "colab": {
      "name": "FTI2021.ipynb",
      "provenance": [],
      "collapsed_sections": [],
      "authorship_tag": "ABX9TyMvsh2eCF4lzwd8YP7LnqNh",
      "include_colab_link": true
    },
    "kernelspec": {
      "name": "python3",
      "display_name": "Python 3"
    },
    "language_info": {
      "name": "python"
    }
  },
  "cells": [
    {
      "cell_type": "markdown",
      "metadata": {
        "id": "view-in-github",
        "colab_type": "text"
      },
      "source": [
        "<a href=\"https://colab.research.google.com/github/jeremymcwilliams/python-dataviz-fti2021/blob/main/FTI2021.ipynb\" target=\"_parent\"><img src=\"https://colab.research.google.com/assets/colab-badge.svg\" alt=\"Open In Colab\"/></a>"
      ]
    },
    {
      "cell_type": "markdown",
      "metadata": {
        "id": "mtDgkoqCkfIL"
      },
      "source": [
        "# Data Visualizations with python\n",
        "## FTI 2021\n",
        "\n",
        "### Goals of this workshop:  \n",
        "\n",
        "* Load and filter datasets as needed using pandas\n",
        "* Learn the basic elements of creating plots with pandas and matplotlib\n",
        "* Repeat!\n",
        "\n",
        "Note: the exercises here may be strikingly similar to the FTI \"Data Visualizations with R\" workshop.\n",
        "\n",
        "\n",
        "\n",
        "---\n",
        "\n",
        "\n",
        "\n",
        "Welcome to \"Data Visualizations with python\". We'll use this notebook to go through some examples, and then do some practice problems. \n",
        "\n",
        "This notebook is a mix of text cells and code cells. The text is simply descriptive of what we're doing, but the code cells let you write and execute python code. Below is an example of a code cell. To run the cell, click the 'play' icon on its left edge:\n"
      ]
    },
    {
      "cell_type": "code",
      "metadata": {
        "id": "tVkGojlul01J"
      },
      "source": [
        "x=5\n",
        "print(x)"
      ],
      "execution_count": null,
      "outputs": []
    },
    {
      "cell_type": "markdown",
      "metadata": {
        "id": "jYXzGuUKmFEV"
      },
      "source": [
        "Now use the blank code cell below to create a variable 'y' and set it equal to 20, and print it:"
      ]
    },
    {
      "cell_type": "code",
      "metadata": {
        "id": "YPIYxgt_mK-N"
      },
      "source": [
        "#enter your code below\n",
        "\n",
        "\n"
      ],
      "execution_count": null,
      "outputs": []
    },
    {
      "cell_type": "markdown",
      "metadata": {
        "id": "y2XKJdxdmO2F"
      },
      "source": [
        "As you examine the code blocks below, you'll want to make sure you run them. The code in this notebook is \"procedural\", meaning that it reads top to bottom. So a code block later in the notebook may not run properly if a preceding block isn't executed.\n",
        "\n",
        "Ok! Now on to data visualizations. Before getting started, it's worth noting that python (and other languages) offers more than one way to work with data and create visualizations. If you ultimately want to try some different approaches, Google searches will undoubtedly lead you there. For the purposes of this session, we're going to use the \"matplotlib\" package.\n",
        "\n",
        "We're going to take this general approach:\n",
        "\n",
        "* Load a dataset\n",
        "* Filter or format the data we want to use\n",
        "* Create the visualization\n",
        "* Edit as necessary\n",
        "* Save the visualization as an image file\n",
        "Before doing anything too fancy, we're going to first load some python libraries. Python out of the box can do a lot, but it can't do everything. Fortunately we can import libraries of functions created by the open source community to make our coding easier. The syntax to import a library is:\n",
        "\n",
        "```\n",
        "import libraryName as abbreviation\n",
        "```\n",
        "...where \"abbreviation\" is typically a very short word or acronymn that can be used later in our code to call functions in that library...basically to save a few keystrokes."
      ]
    },
    {
      "cell_type": "code",
      "metadata": {
        "id": "hAStXSQjmlb0"
      },
      "source": [
        "#pandas is a data analysis library\n",
        "import pandas as pd\n",
        "\n",
        "#pandas uses matplotlib \"under the hood\" to generate visualizations\n",
        "import matplotlib.pyplot as plt\n",
        "\n",
        "# Enable inline plotting\n",
        "%matplotlib inline"
      ],
      "execution_count": 1,
      "outputs": []
    },
    {
      "cell_type": "markdown",
      "metadata": {
        "id": "859NkqO9m-oX"
      },
      "source": [
        "### Average Height by Country\n",
        "\n",
        "In our github repository, we've made a couple datasets available that we'll load. The first is \"average-height-of-men.csv\". This is a dataset from NCD-Risc (http://www.ncdrisc.org/data-downloads.html) that has the average annual height of men by country from 1896-1996. Let's load this data below by createing a variable called \"men\". We can then take a look at the data by printing \"men\"."
      ]
    },
    {
      "cell_type": "code",
      "metadata": {
        "colab": {
          "base_uri": "https://localhost:8080/",
          "height": 204
        },
        "id": "Jq4c4sxxnfve",
        "outputId": "1f132ab4-f167-4b16-82bc-a52ed2f27f82"
      },
      "source": [
        "men_url=\"https://raw.githubusercontent.com/jeremymcwilliams/python-dataviz-fti2021/main/average-height-of-men.csv\"\n",
        "\n",
        "# loads the data into the 'menDataFrame' variable\n",
        "menDataFrame = pd.read_csv(men_url)\n",
        "\n",
        "menDataFrame.head()\n",
        "\n"
      ],
      "execution_count": 2,
      "outputs": [
        {
          "output_type": "execute_result",
          "data": {
            "text/html": [
              "<div>\n",
              "<style scoped>\n",
              "    .dataframe tbody tr th:only-of-type {\n",
              "        vertical-align: middle;\n",
              "    }\n",
              "\n",
              "    .dataframe tbody tr th {\n",
              "        vertical-align: top;\n",
              "    }\n",
              "\n",
              "    .dataframe thead th {\n",
              "        text-align: right;\n",
              "    }\n",
              "</style>\n",
              "<table border=\"1\" class=\"dataframe\">\n",
              "  <thead>\n",
              "    <tr style=\"text-align: right;\">\n",
              "      <th></th>\n",
              "      <th>Entity</th>\n",
              "      <th>Code</th>\n",
              "      <th>Year</th>\n",
              "      <th>Mean male height (cm) (centimeters)</th>\n",
              "    </tr>\n",
              "  </thead>\n",
              "  <tbody>\n",
              "    <tr>\n",
              "      <th>0</th>\n",
              "      <td>Afghanistan</td>\n",
              "      <td>AFG</td>\n",
              "      <td>1896</td>\n",
              "      <td>161.164095</td>\n",
              "    </tr>\n",
              "    <tr>\n",
              "      <th>1</th>\n",
              "      <td>Afghanistan</td>\n",
              "      <td>AFG</td>\n",
              "      <td>1897</td>\n",
              "      <td>161.196286</td>\n",
              "    </tr>\n",
              "    <tr>\n",
              "      <th>2</th>\n",
              "      <td>Afghanistan</td>\n",
              "      <td>AFG</td>\n",
              "      <td>1898</td>\n",
              "      <td>161.228297</td>\n",
              "    </tr>\n",
              "    <tr>\n",
              "      <th>3</th>\n",
              "      <td>Afghanistan</td>\n",
              "      <td>AFG</td>\n",
              "      <td>1899</td>\n",
              "      <td>161.260727</td>\n",
              "    </tr>\n",
              "    <tr>\n",
              "      <th>4</th>\n",
              "      <td>Afghanistan</td>\n",
              "      <td>AFG</td>\n",
              "      <td>1900</td>\n",
              "      <td>161.293068</td>\n",
              "    </tr>\n",
              "  </tbody>\n",
              "</table>\n",
              "</div>"
            ],
            "text/plain": [
              "        Entity Code  Year  Mean male height (cm) (centimeters)\n",
              "0  Afghanistan  AFG  1896                           161.164095\n",
              "1  Afghanistan  AFG  1897                           161.196286\n",
              "2  Afghanistan  AFG  1898                           161.228297\n",
              "3  Afghanistan  AFG  1899                           161.260727\n",
              "4  Afghanistan  AFG  1900                           161.293068"
            ]
          },
          "metadata": {
            "tags": []
          },
          "execution_count": 2
        }
      ]
    },
    {
      "cell_type": "markdown",
      "metadata": {
        "id": "jFjngPWWo92s"
      },
      "source": [
        "This looks pretty straightforward, though that last column heading is a bit of a handful. Let's use the pandas \"columns\" function to rename a couple:"
      ]
    },
    {
      "cell_type": "code",
      "metadata": {
        "colab": {
          "base_uri": "https://localhost:8080/",
          "height": 204
        },
        "id": "XSlSJsyGpMLL",
        "outputId": "b9ee1135-52b1-4ff2-81af-2592f1fdb222"
      },
      "source": [
        "\n",
        "menDataFrame.columns=['Country', 'Code', 'Year', 'Height']\n",
        "\n",
        "menDataFrame.head()"
      ],
      "execution_count": 3,
      "outputs": [
        {
          "output_type": "execute_result",
          "data": {
            "text/html": [
              "<div>\n",
              "<style scoped>\n",
              "    .dataframe tbody tr th:only-of-type {\n",
              "        vertical-align: middle;\n",
              "    }\n",
              "\n",
              "    .dataframe tbody tr th {\n",
              "        vertical-align: top;\n",
              "    }\n",
              "\n",
              "    .dataframe thead th {\n",
              "        text-align: right;\n",
              "    }\n",
              "</style>\n",
              "<table border=\"1\" class=\"dataframe\">\n",
              "  <thead>\n",
              "    <tr style=\"text-align: right;\">\n",
              "      <th></th>\n",
              "      <th>Country</th>\n",
              "      <th>Code</th>\n",
              "      <th>Year</th>\n",
              "      <th>Height</th>\n",
              "    </tr>\n",
              "  </thead>\n",
              "  <tbody>\n",
              "    <tr>\n",
              "      <th>0</th>\n",
              "      <td>Afghanistan</td>\n",
              "      <td>AFG</td>\n",
              "      <td>1896</td>\n",
              "      <td>161.164095</td>\n",
              "    </tr>\n",
              "    <tr>\n",
              "      <th>1</th>\n",
              "      <td>Afghanistan</td>\n",
              "      <td>AFG</td>\n",
              "      <td>1897</td>\n",
              "      <td>161.196286</td>\n",
              "    </tr>\n",
              "    <tr>\n",
              "      <th>2</th>\n",
              "      <td>Afghanistan</td>\n",
              "      <td>AFG</td>\n",
              "      <td>1898</td>\n",
              "      <td>161.228297</td>\n",
              "    </tr>\n",
              "    <tr>\n",
              "      <th>3</th>\n",
              "      <td>Afghanistan</td>\n",
              "      <td>AFG</td>\n",
              "      <td>1899</td>\n",
              "      <td>161.260727</td>\n",
              "    </tr>\n",
              "    <tr>\n",
              "      <th>4</th>\n",
              "      <td>Afghanistan</td>\n",
              "      <td>AFG</td>\n",
              "      <td>1900</td>\n",
              "      <td>161.293068</td>\n",
              "    </tr>\n",
              "  </tbody>\n",
              "</table>\n",
              "</div>"
            ],
            "text/plain": [
              "       Country Code  Year      Height\n",
              "0  Afghanistan  AFG  1896  161.164095\n",
              "1  Afghanistan  AFG  1897  161.196286\n",
              "2  Afghanistan  AFG  1898  161.228297\n",
              "3  Afghanistan  AFG  1899  161.260727\n",
              "4  Afghanistan  AFG  1900  161.293068"
            ]
          },
          "metadata": {
            "tags": []
          },
          "execution_count": 3
        }
      ]
    },
    {
      "cell_type": "markdown",
      "metadata": {
        "id": "Z_hP12MRrCGY"
      },
      "source": [
        "Let's say we're interested in seeing any changes over time in the average height of men from the United States. We can use a pandas filtering expression:"
      ]
    },
    {
      "cell_type": "code",
      "metadata": {
        "colab": {
          "base_uri": "https://localhost:8080/"
        },
        "id": "xJ6hTRBTrp3R",
        "outputId": "107a7116-62ee-4e06-85b3-feec38282048"
      },
      "source": [
        "\n",
        "usMen=menDataFrame[menDataFrame.Code.eq('USA')]\n",
        "\n",
        "print(usMen)\n",
        "\n"
      ],
      "execution_count": 4,
      "outputs": [
        {
          "output_type": "stream",
          "text": [
            "             Country Code  Year      Height\n",
            "19998  United States  USA  1896  171.079272\n",
            "19999  United States  USA  1897  171.179657\n",
            "20000  United States  USA  1898  171.280292\n",
            "20001  United States  USA  1899  171.381148\n",
            "20002  United States  USA  1900  171.482114\n",
            "...              ...  ...   ...         ...\n",
            "20094  United States  USA  1992  177.243253\n",
            "20095  United States  USA  1993  177.214932\n",
            "20096  United States  USA  1994  177.186675\n",
            "20097  United States  USA  1995  177.158675\n",
            "20098  United States  USA  1996  177.130396\n",
            "\n",
            "[101 rows x 4 columns]\n"
          ],
          "name": "stdout"
        }
      ]
    },
    {
      "cell_type": "markdown",
      "metadata": {
        "id": "AKNYoSpascuk"
      },
      "source": [
        "Now that we have a subset of data, let's create a line plot:"
      ]
    },
    {
      "cell_type": "code",
      "metadata": {
        "colab": {
          "base_uri": "https://localhost:8080/",
          "height": 279
        },
        "id": "RQhUgQRaseoM",
        "outputId": "d5f58c58-5f4b-4105-c7d9-aeb296278b40"
      },
      "source": [
        "usMen.plot(x=\"Year\", y=\"Height\")\n",
        "\n",
        "# We rely on the matplotlib library (plt) to display the plot\n",
        "plt.show()"
      ],
      "execution_count": 5,
      "outputs": [
        {
          "output_type": "display_data",
          "data": {
            "image/png": "[encoded data removed]",
            "text/plain": [
              "<Figure size 432x288 with 1 Axes>"
            ]
          },
          "metadata": {
            "tags": [],
            "needs_background": "light"
          }
        }
      ]
    },
    {
      "cell_type": "markdown",
      "metadata": {
        "id": "Z8FNSFjltl9V"
      },
      "source": [
        "Now let's compare multiple countries at once. We can use the \"or\" operater | in the filter function to return data for multiple countries:"
      ]
    },
    {
      "cell_type": "code",
      "metadata": {
        "colab": {
          "base_uri": "https://localhost:8080/"
        },
        "id": "SPzobdN7t8vS",
        "outputId": "2aecc432-4655-4df3-9a48-b8541bd4058f"
      },
      "source": [
        "# create a list of countries\n",
        "countries = ['Kenya','Spain', 'Chile']\n",
        "\n",
        "# create a \n",
        "menCaMxUs = menDataFrame[menDataFrame.Country.isin(countries)]\n",
        "\n",
        "print(menCaMxUs)\n",
        "\n"
      ],
      "execution_count": 6,
      "outputs": [
        {
          "output_type": "stream",
          "text": [
            "      Country Code  Year      Height\n",
            "3636    Chile  CHL  1896  160.694096\n",
            "3637    Chile  CHL  1897  160.813150\n",
            "3638    Chile  CHL  1898  160.932001\n",
            "3639    Chile  CHL  1899  161.050861\n",
            "3640    Chile  CHL  1900  161.169987\n",
            "...       ...  ...   ...         ...\n",
            "17468   Spain  ESP  1992  176.407426\n",
            "17469   Spain  ESP  1993  176.454200\n",
            "17470   Spain  ESP  1994  176.500812\n",
            "17471   Spain  ESP  1995  176.547360\n",
            "17472   Spain  ESP  1996  176.593867\n",
            "\n",
            "[303 rows x 4 columns]\n"
          ],
          "name": "stdout"
        }
      ]
    },
    {
      "cell_type": "markdown",
      "metadata": {
        "id": "-dfoH_AivSZ8"
      },
      "source": [
        "Now let's plot them:"
      ]
    },
    {
      "cell_type": "code",
      "metadata": {
        "colab": {
          "base_uri": "https://localhost:8080/",
          "height": 550
        },
        "id": "87HcppAdvVJq",
        "outputId": "a631d3f5-8087-411c-d036-9fbfebd7c290"
      },
      "source": [
        "#menCaMxUs.plot(x=\"Year\", y=\"Height\")\n",
        "\n",
        "df = menCaMxUs.pivot(index='Year', columns='Country', values='Height')\n",
        "print(df)\n",
        "df.plot(title=\"My title\")\n",
        "\n",
        "#menCaMxUs.set_index('Year', inplace=True)\n",
        "#menCaMxUs.groupby('Code')['Height'].plot(legend=True)\n",
        "\n",
        "plt.show()\n"
      ],
      "execution_count": 11,
      "outputs": [
        {
          "output_type": "stream",
          "text": [
            "Country       Chile       Kenya       Spain\n",
            "Year                                       \n",
            "1896     160.694096  165.720072  162.290259\n",
            "1897     160.813150  165.822694  162.373685\n",
            "1898     160.932001  165.925263  162.457372\n",
            "1899     161.050861  166.028116  162.541389\n",
            "1900     161.169987  166.131098  162.625339\n",
            "...             ...         ...         ...\n",
            "1992     171.614274  170.322888  176.407426\n",
            "1993     171.663504  170.151851  176.454200\n",
            "1994     171.713024  169.980804  176.500812\n",
            "1995     171.762088  169.810517  176.547360\n",
            "1996     171.811282  169.640092  176.593867\n",
            "\n",
            "[101 rows x 3 columns]\n"
          ],
          "name": "stdout"
        },
        {
          "output_type": "display_data",
          "data": {
            "image/png": "[encoded data removed]",
            "text/plain": [
              "<Figure size 432x288 with 1 Axes>"
            ]
          },
          "metadata": {
            "tags": [],
            "needs_background": "light"
          }
        }
      ]
    }
  ]
}